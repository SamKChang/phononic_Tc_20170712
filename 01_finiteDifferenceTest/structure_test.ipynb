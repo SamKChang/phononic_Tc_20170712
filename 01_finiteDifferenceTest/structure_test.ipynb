{
 "cells": [
  {
   "cell_type": "markdown",
   "metadata": {},
   "source": [
    "# Finite difference test\n",
    "\n",
    "**Motivation:** Since alchemical derviative on forces $\\partial_\\lambda\\langle\\psi|\\partial_{\\mathbf{R}_I}H_\\lambda|\\psi\\rangle$ is not implement, finite difference is necessary at the moment. Instead of performing ~$N$ finite difference on fource, $\\partial_{\\mathbf{R}_I}\\mathbf{F}_J=\\big(\\partial_{R_{Ii}}F_{Jj}\\big)_{ij}$, each ~$N^2$ Hessian matrix element must be computed by second order finite difference $\\partial^2_{R_{Ii}R_{Jj}} E$. \n",
    "\n",
    "The setup is the following: The eigenvalues of Hessian matrix should be estimated for a target system $H^{\\rm tar}$. We estimate the Hessian matrix from a reference system $H^{\\rm ref}$ and the corresponding alchemical derivative $\\partial_\\lambda E^{{\\rm ref}\\rightarrow{\\rm tar}}$. That is\n",
    "$$\n",
    "\\big(\\partial^2_{R_{Ii}R_{Jj}} E^{\\rm tar}\\big)_{IiJj} \\approx \\big(\\partial^2_{R_{Ii}R_{Jj}} E^{\\rm pred}\\big)_{IiJj} = \\big(\\partial^2_{R_{Ii}R_{Jj}} E^{\\rm ref}\\big)_{IiJj} + \\big(\\partial^2_{R_{Ii}R_{Jj}} \\partial_\\lambda E^{{\\rm ref}\\rightarrow{\\rm tar}}\\big)_{IiJj}.\n",
    "$$\n",
    "The alchemical derivative is evaluated analytically while the second order derivative of Hessian matrix element is evalutated numerically by finite difference,\n",
    "\n",
    "$$\n",
    "\\partial^2_{R_{Ii}R_{Jj}} E = \\lim_{\\Delta h, \\Delta l\\rightarrow 0}\\frac{E(\\cdots, R_{Ii}+\\Delta h, \\cdots, R_{Jj} + \\Delta l, \\cdots) - E(\\cdots, R_{Ii}, \\cdots, R_{Jj}, \\cdots)}{\\Delta h \\Delta l}.\n",
    "$$\n",
    "\n",
    "By doing this, the alchemical prediction to phonon frequency is computed by diagonalizing $\\big(\\partial^2_{R_{Ii}R_{Jj}} E^{\\rm pred}\\big)_{IiJj}$\n",
    "\n",
    "Therefore it is crucial to examine the predictive error of each Hessian matrix element made by alchemical prediction.\n",
    "\n",
    "**Plan:** Use pure graphene of $2\\times 2\\times 1$ supercell of 8 atoms with perfect hony cone structure as reference. Target systems are the system doped by one B-N pair, BN1 with with a BN bond, and BN2 where B and N are separated by a single C.\n",
    "\n",
    "**Method:** Constuct list containing all possibility of [{ij}, {IJ}], where I, J run through all nuclie and i, j run through x, y ,z directions. For example, the list should look like [{xx, xy, xz, yy, yz}, {11, 12, ..., 22, 23, ...}]. Randomize the list and perform reference runs, and predictions in order. Ideally, each entry of the list will provide some points to the scatter plot.\n",
    "\n",
    "**Validation:** Eigenvalues of the matrix $[\\partial^2_{R_{Ii}R_{Jj}} E]_{IiJj}$ for the reference systems should be compared with the result of frozen phonon approximation implemented in standard code"
   ]
  },
  {
   "cell_type": "code",
   "execution_count": 1,
   "metadata": {
    "collapsed": true
   },
   "outputs": [],
   "source": [
    "# https://github.com/SamKChang/qctoolkit\n",
    "import qctoolkit as qtk \n",
    "import numpy as np\n",
    "from matplotlib import pyplot as plt\n",
    "from datetime import datetime\n",
    "\n",
    "%matplotlib inline"
   ]
  },
  {
   "cell_type": "markdown",
   "metadata": {},
   "source": [
    "# Construct graphene"
   ]
  },
  {
   "cell_type": "code",
   "execution_count": 2,
   "metadata": {
    "collapsed": true
   },
   "outputs": [],
   "source": [
    "a = 1.42 # bond length\n",
    "\n",
    "# hard coded geometry of perfect hony cone structure\n",
    "R_scale = np.array([[1./3., 1./3., 0], [2./3., 2./3., 0]])\n",
    "lattice = np.array([[1, 0, 0], [.5, np.sqrt(3)/2, 0], [0, 0, 5]]) * np.sqrt(3) * a\n",
    "\n",
    "# necessary variables for periodic systems\n",
    "celldm = qtk.lattice2celldm(lattice)\n",
    "Z = [[6], [6]]\n",
    "R = np.dot(R_scale, lattice)\n",
    "ZR = np.hstack([Z, R])\n",
    "\n",
    "# biuld molecule object for periodic graphene\n",
    "mol = qtk.Molecule()\n",
    "mol.build(ZR)\n",
    "\n",
    "mol.R_scale = R_scale\n",
    "mol.celldm = celldm\n",
    "mol.lattice = lattice\n",
    "mol.periodic = True"
   ]
  },
  {
   "cell_type": "code",
   "execution_count": 3,
   "metadata": {
    "collapsed": true
   },
   "outputs": [],
   "source": [
    "# check results\n",
    "mol_ext = mol.copy()\n",
    "mol_ext.extend([2,2,1], normalize=True)\n",
    "mol_ext.write('test.xyz')\n",
    "mol_ext.write_ascii('test.ascii')"
   ]
  },
  {
   "cell_type": "markdown",
   "metadata": {},
   "source": [
    "# Test run\n",
    "bench mark single core calculation time and wavefunction memory"
   ]
  },
  {
   "cell_type": "code",
   "execution_count": 4,
   "metadata": {
    "collapsed": true
   },
   "outputs": [],
   "source": [
    "mol_ref = mol_ext.copy()"
   ]
  },
  {
   "cell_type": "code",
   "execution_count": 5,
   "metadata": {
    "collapsed": true
   },
   "outputs": [],
   "source": [
    "qmsetting_ref = {\n",
    "    'program': 'abinit',\n",
    "    'threads': 1,\n",
    "    'save_restart': True,\n",
    "}\n",
    "inp = qtk.QMInp(mol_ref, **qmsetting_ref)\n",
    "inp.molecule.name = 'test_221'"
   ]
  },
  {
   "cell_type": "code",
   "execution_count": 6,
   "metadata": {},
   "outputs": [
    {
     "name": "stdout",
     "output_type": "stream",
     "text": [
      "0:00:00.000168\n"
     ]
    }
   ],
   "source": [
    "ti = datetime.now()\n",
    "#inp.run(overwrite=True)\n",
    "tf = datetime.now()\n",
    "print tf - ti"
   ]
  },
  {
   "cell_type": "code",
   "execution_count": 7,
   "metadata": {},
   "outputs": [
    {
     "name": "stdout",
     "output_type": "stream",
     "text": [
      "hours: 5.55555555556\n",
      "GB: 8\n"
     ]
    }
   ],
   "source": [
    "# test run takes 10 seconds and generate 4MB of data\n",
    "print \"hours:\", 2000 * 10 / 60. / 60. \n",
    "print \"GB:\", 2000 * 4 / 1000"
   ]
  },
  {
   "cell_type": "markdown",
   "metadata": {},
   "source": [
    "## job list generation\n",
    "For simplicity, symmetry is not considered"
   ]
  },
  {
   "cell_type": "code",
   "execution_count": 8,
   "metadata": {},
   "outputs": [
    {
     "name": "stdout",
     "output_type": "stream",
     "text": [
      "[5, 7, 6.0, 6.0, 6.0, 6.0, 6.0, 6.0]\n",
      "[5, 6.0, 7, 6.0, 6.0, 6.0, 6.0, 6.0]\n"
     ]
    }
   ],
   "source": [
    "# change atom type from C to B or N\n",
    "# test on two doped systems\n",
    "\n",
    "# BN1\n",
    "mol_BN1 = mol_ref.copy()\n",
    "mol_BN1.setAtoms(0, Z=5)\n",
    "mol_BN1.setAtoms(1, Z=7)\n",
    "mol_BN1.write('mol_BN1.xyz')\n",
    "print mol_BN1.Z\n",
    "\n",
    "# BN2\n",
    "mol_BN2 = mol_ref.copy()\n",
    "mol_BN2.setAtoms(0, Z=5)\n",
    "mol_BN2.setAtoms(2, Z=7)\n",
    "mol_BN2.write('mol_BN2.xyz')\n",
    "print mol_BN2.Z\n",
    "\n",
    "tar_list = [mol_BN1, mol_BN2]"
   ]
  },
  {
   "cell_type": "code",
   "execution_count": 9,
   "metadata": {},
   "outputs": [
    {
     "name": "stdout",
     "output_type": "stream",
     "text": [
      "total jobs: 577\n",
      "[[-1, -1], [-1, -1]]\n",
      "[[2, 0], [3, 6]]\n",
      "[[0, 1], [4, 0]]\n",
      "[[2, 1], [4, 0]]\n",
      "[[1, 1], [7, 6]]\n"
     ]
    }
   ],
   "source": [
    "# construct job list to scan for energy components of each matrix element\n",
    "\n",
    "dirctional_list = []\n",
    "for i in range(3):\n",
    "    for j in range(3):\n",
    "        dirctional_list.append([i, j])\n",
    "#print dirctional_list\n",
    "\n",
    "nucleus_list = []\n",
    "for I in range(mol_ref.N):\n",
    "    for J in range(mol_ref.N):\n",
    "        nucleus_list.append([I, J])\n",
    "#print nucleus_list\n",
    "\n",
    "job_list = []\n",
    "for d in dirctional_list:\n",
    "    for n in nucleus_list:\n",
    "        job_list.append([d, n])\n",
    "\n",
    "# ensure the same random result for each execution\n",
    "np.random.seed(0)\n",
    "np.random.shuffle(job_list)\n",
    "\n",
    "# reference system\n",
    "job_list.insert(0, [[-1, -1], [-1, -1]])\n",
    "\n",
    "print \"total jobs:\", len(job_list)\n",
    "for i in range(5): print job_list[i]"
   ]
  },
  {
   "cell_type": "code",
   "execution_count": 10,
   "metadata": {},
   "outputs": [
    {
     "data": {
      "text/plain": [
       "array([[ 1.22975608,  0.71      ,  0.        ],\n",
       "       [ 2.45951215,  1.42      ,  0.        ],\n",
       "       [ 3.68926823,  0.71      ,  0.        ],\n",
       "       [ 4.9190243 ,  1.42      ,  0.        ],\n",
       "       [ 2.45951215,  2.84      ,  0.        ],\n",
       "       [ 3.68926823,  3.55      ,  0.        ],\n",
       "       [ 4.9190243 ,  2.84      ,  0.        ],\n",
       "       [ 6.14878037,  3.55      ,  0.        ]])"
      ]
     },
     "execution_count": 10,
     "metadata": {},
     "output_type": "execute_result"
    }
   ],
   "source": [
    "def perturb_R(molecule_unperturbed, job_entry, dR = 0.001):\n",
    "    \"\"\"\n",
    "    input: \n",
    "        molecule_unperturbed: Base molecule before perturbation\n",
    "        job_entry: [[i, j], [I, J]]\n",
    "        dR: perturbation size, default 0.001 angstrom\n",
    "        \n",
    "        note: set i < 0 or j < 0 will simply generate a copy of unperturbed system\n",
    "    output: \n",
    "        perturbed molecule object\n",
    "    \"\"\"\n",
    "    \n",
    "    [[i, j], [I, J]] = job_entry\n",
    "    mol = molecule_unperturbed.copy()\n",
    "    \n",
    "    # extract cell vector for normalizatoin\n",
    "    lattice = molecule_unperturbed.lattice\n",
    "    vec_i, vec_j = lattice[i], lattice[j]\n",
    "    \n",
    "    # for unperturbed system, pass i<0 or j<0\n",
    "    if i >= 0 and j >= 0:\n",
    "        mol.R_scale[I, i] += dR / np.linalg.norm(vec_i) # normalized perturbation along cell vector\n",
    "        mol.R_scale[J, j] += dR / np.linalg.norm(vec_j)\n",
    "    return mol\n",
    "\n",
    "perturb_R(mol_ref, job_list[1]).R"
   ]
  },
  {
   "cell_type": "code",
   "execution_count": 48,
   "metadata": {
    "collapsed": true
   },
   "outputs": [],
   "source": [
    "# setting for three type of QM calculations:\n",
    "\n",
    "# reference run: need to save restart files for alchemical prediction\n",
    "qmsetting_ref = {\n",
    "    'program': 'abinit',\n",
    "    'threads': 1,\n",
    "    'save_restart': True,\n",
    "}\n",
    "\n",
    "# target run: default single point calculation\n",
    "qmsetting_tar = {\n",
    "    'program': 'abinit',\n",
    "    'threads': 1,\n",
    "}\n",
    "\n",
    "# prediction run: load restart file and perform 1 SCF step to evaluate alchemical derivative\n",
    "qmsetting_prd = {\n",
    "    'program': 'abinit',\n",
    "    'threads': 1,\n",
    "    'scf_step': 0,\n",
    "    'restart': True,\n",
    "}"
   ]
  },
  {
   "cell_type": "code",
   "execution_count": 12,
   "metadata": {
    "collapsed": true
   },
   "outputs": [],
   "source": [
    "# use job list and QM settings to construct list of QM input object\n",
    "def generate_inp_list():\n",
    "    \n",
    "    \"\"\"\n",
    "    QM file name: jobID_perturbationID_systemID_FLAG\n",
    "      jobID: list of of job_list\n",
    "      perturbationID: ijIJ, corresponds to dR_Ii x dR_Jj\n",
    "      systemID: BN1 or BN2\n",
    "      FLAG: ref, prd, tar\n",
    "      ex: 'j0224_2314_BN1_prd' gives \n",
    "    \"\"\"\n",
    "    \n",
    "    tar_names = ['BN1', 'BN2']\n",
    "    inp_list = []\n",
    "    itr = 1\n",
    "    \n",
    "    for job in job_list:\n",
    "        \n",
    "        # conver [[i,j],[I,J]] to 'ijIJ' string\n",
    "        job_id = ''.join(map(str, list(qtk.flatten(job))))\n",
    "        if job_id == '-1-1-1-1': job_id = 'base'\n",
    "            \n",
    "        # QM input for reference system, where WF files are saved\n",
    "        name_ref = 'j%04d_%s_%s_ref' % (itr, job_id, 'CC')\n",
    "        mol = perturb_R(mol_ref, job)\n",
    "        inp = qtk.QMInp(mol, **qmsetting_ref)\n",
    "        inp.molecule.name = name_ref\n",
    "        inp_list.append(inp)\n",
    "        \n",
    "        for i in range(len(tar_list)):\n",
    "            \n",
    "            mol_tar = tar_list[i]\n",
    "            mol = perturb_R(mol_tar, job)\n",
    "            \n",
    "            # target system, full single point calculation\n",
    "            # hard coded name formate\n",
    "            name_tar = 'j%04d_%s_%s_tar' % (itr, job_id, tar_names[i])\n",
    "            inp_tar = qtk.QMInp(mol, **qmsetting_tar)\n",
    "            inp_tar.molecule.name = name_tar\n",
    "            inp_list.append(inp_tar)\n",
    "            \n",
    "            # prediction, first order alchemical derivative by restart with WF file\n",
    "            # hard coded name formate\n",
    "            name_prd = 'j%04d_%s_%s_prd' % (itr, job_id, tar_names[i])\n",
    "            # hard coded WF file name\n",
    "            qmsetting_prd['restart_wavefunction_file'] = \"%s/%so_WFK\" % (name_ref, name_ref)\n",
    "            inp_prd = qtk.QMInp(mol, **qmsetting_prd)\n",
    "            inp_prd.molecule.name = name_prd\n",
    "            #alinp = qtk.Al1st(inp_prd, ref_dir = name_tar)\n",
    "            inp_list.append(inp_prd)\n",
    "\n",
    "        itr += 1\n",
    "    return inp_list\n",
    "\n",
    "inp_list = generate_inp_list()"
   ]
  },
  {
   "cell_type": "code",
   "execution_count": 15,
   "metadata": {
    "scrolled": false
   },
   "outputs": [],
   "source": [
    "# check everything setup as expected\n",
    "\n",
    "# for inp in inp_list[:3]:\n",
    "#     print inp.molecule.name\n",
    "#     print inp.setting\n",
    "#     print inp.molecule.R\n",
    "#     print \n",
    "# for inp in inp_list[5:8]:\n",
    "#     print inp.molecule.name\n",
    "#     print inp.setting\n",
    "#     print inp.molecule.R\n",
    "#     print "
   ]
  },
  {
   "cell_type": "code",
   "execution_count": 14,
   "metadata": {},
   "outputs": [],
   "source": [
    "# test run/debug\n",
    "#qtk.qmRunAll(inp_list[:10], 'DF_d2E_test', threads=1)"
   ]
  },
  {
   "cell_type": "markdown",
   "metadata": {},
   "source": [
    "# Output analysis: Matrix element prediction"
   ]
  },
  {
   "cell_type": "code",
   "execution_count": 16,
   "metadata": {
    "collapsed": true
   },
   "outputs": [],
   "source": [
    "import glob"
   ]
  },
  {
   "cell_type": "code",
   "execution_count": null,
   "metadata": {
    "collapsed": true
   },
   "outputs": [],
   "source": [
    "# load output object downloaded from compute nodes\n",
    "outs = qtk.pload('DF_d2E.pkl')\n",
    "# outs = []\n",
    "# for out in sorted(glob.glob('DF_d2E/*/*.out')):\n",
    "#     outs.append(qtk.QMOut(out, program='abinit'))"
   ]
  },
  {
   "cell_type": "code",
   "execution_count": 21,
   "metadata": {},
   "outputs": [
    {
     "data": {
      "text/plain": [
       "['j0001_base_BN1_prd.out',\n",
       " 'j0001_base_BN1_tar.out',\n",
       " 'j0001_base_BN2_prd.out',\n",
       " 'j0001_base_BN2_tar.out',\n",
       " 'j0001_base_CC_ref.out',\n",
       " 'j0002_2036_BN1_prd.out',\n",
       " 'j0002_2036_BN1_tar.out',\n",
       " 'j0002_2036_BN2_prd.out',\n",
       " 'j0002_2036_BN2_tar.out',\n",
       " 'j0002_2036_CC_ref.out']"
      ]
     },
     "execution_count": 21,
     "metadata": {},
     "output_type": "execute_result"
    }
   ],
   "source": [
    "# check results\n",
    "[out.name for out in outs[:10]]"
   ]
  },
  {
   "cell_type": "code",
   "execution_count": 50,
   "metadata": {},
   "outputs": [],
   "source": [
    "# restructure results into target vs prediction on BN1 and BN2 \n",
    "# according to nameing convension 'jobID_perturbationID_systemID_FLAG'\n",
    "prd_list = [[], []]\n",
    "tar_list = [[], []]\n",
    "ref_list = []\n",
    "for out in outs:\n",
    "    name = out.name\n",
    "    # for all perturbed geometries\n",
    "    if '_base_' not in name:\n",
    "        if '_prd' in name:\n",
    "            if '_BN1_' in name: prd_list[0].append(out)\n",
    "            elif '_BN2_' in name: prd_list[1].append(out)\n",
    "        elif '_tar' in name:\n",
    "            if '_BN1_' in name: tar_list[0].append(out)\n",
    "            elif '_BN2_' in name: tar_list[1].append(out)\n",
    "        elif '_ref' in name: ref_list.append(out)\n",
    "    # for unperturbed system\n",
    "    else:\n",
    "        if '_BN1_prd' in name: base_BN1_prd = out\n",
    "        elif '_BN2_prd' in name: base_BN2_prd = out\n",
    "        elif '_BN1_tar' in name: base_BN1_tar = out\n",
    "        elif '_BN2_tar' in name: base_BN2_tar = out\n",
    "        elif '_CC_ref' in name: base_ref = out"
   ]
  },
  {
   "cell_type": "code",
   "execution_count": 52,
   "metadata": {},
   "outputs": [
    {
     "name": "stdout",
     "output_type": "stream",
     "text": [
      "[576, 576] [576, 576] 576\n",
      "-31.5284202669 -31.3594787229 -32.3851174396 -32.4468992643 -30.9848401979\n"
     ]
    }
   ],
   "source": [
    "# check results\n",
    "print map(len, prd_list), map(len, prd_list), len(ref_list)\n",
    "print base_BN1_prd, base_BN2_prd, base_BN1_tar, base_BN2_tar, base_ref"
   ]
  },
  {
   "cell_type": "code",
   "execution_count": 61,
   "metadata": {},
   "outputs": [],
   "source": [
    "# compute each matrix element for target and predected\n",
    "E_BN1_prd = np.array([out.Et for out in prd_list[0]])\n",
    "E_BN2_prd = np.array([out.Et for out in prd_list[1]])\n",
    "E_BN1_tar = np.array([out.Et for out in tar_list[0]])\n",
    "E_BN2_tar = np.array([out.Et for out in tar_list[1]])\n",
    "E_ref = np.array([out.Et for out in ref_list])\n",
    "\n",
    "dE_ref = E_ref - base_ref.Et\n",
    "\n",
    "# construct data for scatter plot\n",
    "dE_BN1_prd = (E_BN1_prd - base_BN1_prd.Et) + dE_ref\n",
    "dE_BN2_prd = (E_BN2_prd - base_BN2_prd.Et) + dE_ref\n",
    "dE_BN1_tar = E_BN1_tar - base_BN1_tar.Et\n",
    "dE_BN2_tar = E_BN2_tar - base_BN2_tar.Et"
   ]
  },
  {
   "cell_type": "code",
   "execution_count": 62,
   "metadata": {},
   "outputs": [
    {
     "data": {
      "text/plain": [
       "<matplotlib.text.Text at 0x2b3d32bade90>"
      ]
     },
     "execution_count": 62,
     "metadata": {},
     "output_type": "execute_result"
    },
    {
     "data": {
      "image/png": "[encoded data removed]",
      "text/plain": [
       "<matplotlib.figure.Figure at 0x2b3d34e6d510>"
      ]
     },
     "metadata": {},
     "output_type": "display_data"
    }
   ],
   "source": [
    "plt.figure(figsize=(8,6))\n",
    "plt.plot(dE_BN1_prd, dE_BN1_tar, ls='', marker='o', label='BN1')\n",
    "plt.plot(dE_BN2_prd, dE_BN2_tar, ls='', marker='o', label='BN2')\n",
    "plt.legend(loc=2)\n",
    "plt.xlabel(r'$E_{\\rm perturbed}^{\\rm pred} - E_0^{\\rm pred}$ [Ha]', fontsize=15)\n",
    "plt.ylabel(r'$E_{\\rm perturbed}^{\\rm tar} - E_0^{\\rm tar}$ [Ha]', fontsize=15)"
   ]
  },
  {
   "cell_type": "markdown",
   "metadata": {},
   "source": [
    "There are obviouly two groups of $\\Delta E^{\\rm tar} > 1.5$ and $\\Delta E^{\\rm tar} \\approx 0$. It could be the case where the system is far from its geometric equilibrium. This can be clearly seen by the following figure"
   ]
  },
  {
   "cell_type": "code",
   "execution_count": 70,
   "metadata": {},
   "outputs": [
    {
     "name": "stdout",
     "output_type": "stream",
     "text": [
      "-0.00305709199893 -0.019338944504\n"
     ]
    },
    {
     "data": {
      "image/png": "[encoded data removed]",
      "text/plain": [
       "<matplotlib.figure.Figure at 0x2b3d333c9410>"
      ]
     },
     "metadata": {},
     "output_type": "display_data"
    }
   ],
   "source": [
    "plt.plot(dE_ref, ls='', marker='o', color='k')\n",
    "plt.plot(dE_BN1_tar, ls='', marker='^')\n",
    "plt.plot(dE_BN2_tar, ls='', marker='v')\n",
    "\n",
    "print dE_ref.mean(), dE_ref.min()"
   ]
  },
  {
   "cell_type": "markdown",
   "metadata": {},
   "source": [
    "Therefore it is reasonable to focus on the $\\Delta E^{\\rm tar} \\approx 0$ group, which gives better correlation"
   ]
  },
  {
   "cell_type": "code",
   "execution_count": 65,
   "metadata": {},
   "outputs": [
    {
     "data": {
      "text/plain": [
       "(-0.02, 0.02)"
      ]
     },
     "execution_count": 65,
     "metadata": {},
     "output_type": "execute_result"
    },
    {
     "data": {
      "image/png": "[encoded data removed]",
      "text/plain": [
       "<matplotlib.figure.Figure at 0x2b3d335ad490>"
      ]
     },
     "metadata": {},
     "output_type": "display_data"
    }
   ],
   "source": [
    "plt.figure(figsize=(8,6))\n",
    "plt.plot(dE_BN1_prd, dE_BN1_tar, ls='', marker='^', label='BN1')\n",
    "plt.plot(dE_BN2_prd, dE_BN2_tar, ls='', marker='v', label='BN2')\n",
    "plt.legend(loc=2)\n",
    "plt.xlabel(r'$E_{\\rm perturbed}^{\\rm pred} - E_0^{\\rm pred}$ [Ha]', fontsize=15)\n",
    "plt.ylabel(r'$E_{\\rm perturbed}^{\\rm tar} - E_0^{\\rm tar}$ [Ha]', fontsize=15)\n",
    "plt.ylim(-0.02,0.02)"
   ]
  },
  {
   "cell_type": "markdown",
   "metadata": {},
   "source": [
    "However, to compute the eigenvalue of $\\big(\\partial_{R_{Ii}R_{Jj}^2}E\\big)_{IiJj}$ Every perturbation need to be considered."
   ]
  }
 ],
 "metadata": {
  "kernelspec": {
   "display_name": "Python 2",
   "language": "python",
   "name": "python2"
  },
  "language_info": {
   "codemirror_mode": {
    "name": "ipython",
    "version": 2
   },
   "file_extension": ".py",
   "mimetype": "text/x-python",
   "name": "python",
   "nbconvert_exporter": "python",
   "pygments_lexer": "ipython2",
   "version": "2.7.13"
  }
 },
 "nbformat": 4,
 "nbformat_minor": 2
}
